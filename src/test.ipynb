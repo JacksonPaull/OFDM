{
 "cells": [
  {
   "cell_type": "code",
   "execution_count": 2,
   "metadata": {},
   "outputs": [],
   "source": [
    "%load_ext autoreload\n",
    "%autoreload 2\n",
    "\n",
    "import numpy as np\n",
    "from utils import *\n",
    "from OFDM import *\n",
    "import matplotlib.pyplot as plt\n",
    "import encoders\n",
    "import plots\n",
    "\n",
    "qpsk = encoders.MQAM(4)\n",
    "pam = encoders.MPAM(2)"
   ]
  },
  {
   "cell_type": "code",
   "execution_count": 11,
   "metadata": {},
   "outputs": [],
   "source": [
    "N=16\n",
    "V=2\n",
    "H = np.array([1, 0.9])\n",
    "noise_variance=0.2\n",
    "SNR = 10\n",
    "packets = 1000"
   ]
  },
  {
   "cell_type": "code",
   "execution_count": 12,
   "metadata": {},
   "outputs": [
    {
     "name": "stdout",
     "output_type": "stream",
     "text": [
      "0.0494375\n"
     ]
    }
   ],
   "source": [
    "transmitter = OFDM_transmitter(V)\n",
    "receiver = OFDM_receiver(V, H, N)\n",
    "\n",
    "# Create bits\n",
    "N_bits = packets * N\n",
    "bits = utils.generate_bits(N_bits)\n",
    "bits_received = np.array([])\n",
    "pe = []\n",
    "for i in range(packets):\n",
    "    # Pass through transmitter\n",
    "    bits_sent = bits[N*i:(i+1)*N]\n",
    "    tx_signal, tx_cache = transmitter(bits_sent, True)\n",
    "    assert(np.sum(np.abs(np.imag(tx_signal))) == 0)\n",
    "\n",
    "    # Pass through channel\n",
    "    conv_signal = np.convolve(tx_signal, H, 'same')\n",
    "\n",
    "    # Add AWGN noise\n",
    "    signal_power = np.mean(np.abs(conv_signal) ** 2)\n",
    "    noise_variance = signal_power * 10 ** (-SNR/10)\n",
    "    noise = np.sqrt(noise_variance/2)*(np.random.randn(*conv_signal.shape)+ 1j*np.random.randn(*conv_signal.shape))\n",
    "    noisy_signal = conv_signal + noise\n",
    "\n",
    "    # Pass through receiver\n",
    "    bits_received, rx_cache = receiver(noisy_signal, return_cache=True)\n",
    "    pe.append(utils.probability_of_bit_error(bits_sent, bits_received))\n",
    "\n",
    "\n",
    "print(np.mean(pe))"
   ]
  },
  {
   "cell_type": "code",
   "execution_count": 13,
   "metadata": {},
   "outputs": [
    {
     "data": {
      "text/plain": [
       "0.01936467713716364"
      ]
     },
     "execution_count": 13,
     "metadata": {},
     "output_type": "execute_result"
    }
   ],
   "source": [
    "noise_variance"
   ]
  }
 ],
 "metadata": {
  "kernelspec": {
   "display_name": "base",
   "language": "python",
   "name": "python3"
  },
  "language_info": {
   "codemirror_mode": {
    "name": "ipython",
    "version": 3
   },
   "file_extension": ".py",
   "mimetype": "text/x-python",
   "name": "python",
   "nbconvert_exporter": "python",
   "pygments_lexer": "ipython3",
   "version": "3.8.5"
  }
 },
 "nbformat": 4,
 "nbformat_minor": 2
}
