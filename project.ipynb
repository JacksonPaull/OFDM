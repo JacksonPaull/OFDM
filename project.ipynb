{
 "cells": [
  {
   "cell_type": "markdown",
   "metadata": {},
   "source": [
    "# ECE381K Final Project\n",
    "\n",
    "The goal of this project is to communicate over a real baseband channel with impulse response:\n",
    "$$\n",
    "h[n] = \\begin{bmatrix}\n",
    "    0.8037 & 0.7209 & -0.3179 & -0.3395 & -0.2455 & -0.0897 & -0.1079 & 0.2267 & -0.1602\n",
    "\\end{bmatrix}^T\n",
    "$$\n",
    "\n",
    "We will analyze given a fixed transmit filter and matched receiver filter $g_{TX}[n] = g_{RX}[n] = \\frac{1}{\\sqrt{T}}\\delta[n]$, fixed signal energy per dimension $\\bar{\\mathcal{E}_s} = 1$, and fixed noise power $\\frac{N_0}{2}=0.15$"
   ]
  },
  {
   "cell_type": "code",
   "execution_count": 1,
   "metadata": {},
   "outputs": [],
   "source": [
    "%load_ext autoreload\n",
    "%autoreload 2\n",
    "\n",
    "import numpy as np\n",
    "import scipy.fft as fft\n",
    "import matplotlib.pyplot as plt\n",
    "\n",
    "import sys\n",
    "sys.path.append('./src')\n",
    "\n",
    "import utils, encoders, OFDM, plots"
   ]
  },
  {
   "cell_type": "code",
   "execution_count": 2,
   "metadata": {},
   "outputs": [],
   "source": [
    "# h = np.array([0.8037, 0.7209, -0.3179,-0.3395, -0.2455, -0.0897, -0.1079, 0.2267, -0.1062])\n",
    "h = np.array([1, 0.5])\n",
    "E_bar = 1\n",
    "#No = 0.3\n",
    "No=0.2"
   ]
  },
  {
   "cell_type": "markdown",
   "metadata": {},
   "source": [
    "## ISI Channel Fundamentals"
   ]
  },
  {
   "cell_type": "markdown",
   "metadata": {},
   "source": [
    "For this project, we will assume T = 1\n",
    "First we determine $q[n]$ and plot its frequency response\n",
    "\n",
    "First, we find the pulse response\n",
    "$$\n",
    "g_{TX}[n] = \\frac{1}{\\sqrt{T}}\\delta[n] \\\\\n",
    "p[n] = h[n] \\ast g_{TX}[n] \\\\\n",
    "\\Longrightarrow p[n] = h[n] \\\\\n",
    "$$\n",
    "\n",
    "We can then find an expression for $q[n]$\n",
    "$$\n",
    "\\begin{equation*}\n",
    "    \\begin{split}\n",
    "    q[n] &\\overset{\\Delta}{=} T \\cdot p[n] \\ast \\frac{p^*[-n]}{||p||} \\\\\n",
    "    \\\\\n",
    "    \\Longrightarrow q[n] &= h[n] \\ast \\frac{h^*[-n]}{||h||}\n",
    "    \\end{split}\n",
    "\\end{equation*}\n",
    "$$\n"
   ]
  },
  {
   "cell_type": "code",
   "execution_count": 3,
   "metadata": {},
   "outputs": [
    {
     "data": {
      "image/png": "[encoded data removed]",
      "text/plain": [
       "<Figure size 576x360 with 1 Axes>"
      ]
     },
     "metadata": {
      "needs_background": "light"
     },
     "output_type": "display_data"
    }
   ],
   "source": [
    "__n__ = 256 # Adjust to change the smoothness of the produced figure\n",
    "\n",
    "q = np.convolve(h, np.conj(h[::-1]) / np.sqrt(h @ h))\n",
    "Q = fft.fft(q, __n__)\n",
    "\n",
    "fig = plt.figure(figsize=(8, 5))\n",
    "plt.plot(np.arange(-np.pi, np.pi, 2*np.pi/__n__), np.abs(Q))\n",
    "plt.title('$|Q(e^{j\\omega}|$')\n",
    "plt.ylabel('Magnitude')\n",
    "plt.xlabel('$\\omega$')\n",
    "plt.grid(True, ls='--', lw=0.4)\n",
    "plt.show()\n"
   ]
  },
  {
   "cell_type": "markdown",
   "metadata": {},
   "source": [
    "Next we determine the matched filter bound $SNR_{MFB}$ for this channel\n",
    "\n",
    "$$\n",
    "SNR_{MFB} \\overset{\\Delta}{=} \\frac{\\bar{\\mathcal{E}_s} \\cdot ||p||^2}{\\frac{N_0}{2}}\n",
    "$$\n",
    "\n",
    "It is important for us to note that the inner product $||p||^2 = p^Tp$"
   ]
  },
  {
   "cell_type": "code",
   "execution_count": 4,
   "metadata": {},
   "outputs": [
    {
     "name": "stdout",
     "output_type": "stream",
     "text": [
      "SNR(mfb) = 12.50 (10.97 db)\n"
     ]
    }
   ],
   "source": [
    "p = h\n",
    "mag_p = p @ p\n",
    "snr_mfb = E_bar * mag_p / (No/2)\n",
    "print(f'SNR(mfb) = {snr_mfb:.2f} ({utils.lin_to_db(snr_mfb):.2f} db)')"
   ]
  },
  {
   "cell_type": "markdown",
   "metadata": {},
   "source": [
    "Now we can find the associated data rate for a given probability.\n",
    "For example, we take $P_e < 10^{-4}$, which corresponds to a gap of $\\Gamma = 6.6$ in dB.\n",
    "\n",
    "Using the Shannon Limit for baseband channels, $b \\leq \\frac{1}{2}log_2(1 + \\frac{SNR}{\\Gamma})$, we find:"
   ]
  },
  {
   "cell_type": "code",
   "execution_count": 5,
   "metadata": {},
   "outputs": [
    {
     "name": "stdout",
     "output_type": "stream",
     "text": [
      "The maximum spectral efficiency we can expect on this channel is: 0.9505 bps/Hz\n"
     ]
    }
   ],
   "source": [
    "gap = 6.6\n",
    "\n",
    "b = 1/2 * np.log2(1 + snr_mfb/utils.db_to_lin(6.6))\n",
    "print(f'The maximum spectral efficiency we can expect on this channel is: {b:.4f} bps/Hz')"
   ]
  },
  {
   "cell_type": "markdown",
   "metadata": {},
   "source": [
    "We can find the expected probability of error is we are to send symbols over this channel without equalization. If we transmit with 2PAM, we wil have \n",
    "\n",
    "$P_e = P_b \\leq Q(\\sqrt{SINR})$\n",
    "\n",
    "We have \n",
    "\n",
    "$SINR = \\frac{S}{ISI + \\sigma^2}$\n",
    "\n",
    "$S = |q[0]|^2 \\cdot \\bar{\\mathcal{E}_s}$\n",
    "\n",
    "$ISI = \\sum_{k\\neq0}{|q[k]|^2 \\cdot \\bar{\\mathcal{E}_s}}$\n",
    "\n",
    "$\\sigma^2 = \\frac{N_0}{2}$"
   ]
  },
  {
   "cell_type": "code",
   "execution_count": 6,
   "metadata": {},
   "outputs": [
    {
     "name": "stdout",
     "output_type": "stream",
     "text": [
      "The SINR we find on this channel without equalization is 2.5000 (3.98 dB)\n",
      "The expected probability of error for symbol by symbol detection with no equalization is: 0.05692\n"
     ]
    }
   ],
   "source": [
    "c = len(q) // 2 # Center index\n",
    "\n",
    "S = E_bar * (q[c] ** 2)\n",
    "ISI = E_bar * np.sum((np.concatenate((q[:c], q[c+1:])) ** 2))\n",
    "sig2 = No/2\n",
    "\n",
    "SINR = S / (ISI + sig2)\n",
    "\n",
    "Pe = utils.qfunc(np.sqrt(SINR))\n",
    "\n",
    "print(f'The SINR we find on this channel without equalization is {SINR:0.4f} ({utils.lin_to_db(SINR):.2f} dB)')\n",
    "print(f'The expected probability of error for symbol by symbol detection with no equalization is: {Pe:.5f}')"
   ]
  },
  {
   "cell_type": "markdown",
   "metadata": {},
   "source": [
    "Now we can simulate transmission over this exact channel and determine an empirical probability of error for 100k bits"
   ]
  },
  {
   "cell_type": "code",
   "execution_count": 7,
   "metadata": {},
   "outputs": [
    {
     "name": "stdout",
     "output_type": "stream",
     "text": [
      "The empirical probability of error we simulate is: 0.0600\n"
     ]
    }
   ],
   "source": [
    "n_bits = 10 ** 6\n",
    "\n",
    "pam = encoders.MPAM(M=2)\n",
    "b = utils.generate_bits(n_bits)\n",
    "\n",
    "symbols = pam.encode_bits(b)\n",
    "\n",
    "signal = np.convolve(symbols, q)[len(h)-1:-len(h)+1]\n",
    "noise = np.sqrt(No/2) * (np.random.randn(*signal.shape))\n",
    "noise = np.convolve(noise, p[::-1]/np.sqrt(mag_p))[:-len(p)+1]\n",
    "signal = signal +  noise\n",
    "\n",
    "b_hat = pam.decode_symbols(signal)\n",
    "\n",
    "empirical_pe = utils.probability_of_bit_error(b, b_hat)\n",
    "print(f'The empirical probability of error we simulate is: {empirical_pe:.4f}')"
   ]
  },
  {
   "cell_type": "markdown",
   "metadata": {},
   "source": [
    "We can see that our empirical estimation is incredibly close to the theoretical value, off by less than 1%"
   ]
  },
  {
   "cell_type": "markdown",
   "metadata": {},
   "source": [
    "## ZF and MMSE FIR Equalization\n",
    "\n",
    "Here I design 33 tap ZF and MMSE FIR equalizers to improve performance"
   ]
  },
  {
   "cell_type": "code",
   "execution_count": 8,
   "metadata": {},
   "outputs": [],
   "source": [
    "from scipy.linalg import toeplitz # For generating U"
   ]
  },
  {
   "cell_type": "markdown",
   "metadata": {},
   "source": [
    "For this channel, we have that\n",
    "\n",
    "$$q[n] = p[n] \\ast \\frac{p^*[-n]}{||p||}$$\n",
    "\n",
    "A 33 tap equalizer contains information for the 16 preceeding and succeeding symbols as well as the symbol at detection time.\n",
    "Its worth noting these 16 taps come from the number of ISI taps in $q[n]$, which in this case is 16.\n",
    "\n",
    "It then follows that \n",
    "\n",
    "$$\n",
    "\\underline{\\textbf{r}}[n] \\overset{\\Delta}{=} \\begin{bmatrix}\n",
    "    z[n-8] \\\\\n",
    "    \\vdots \\\\\n",
    "    z[n] \\\\\n",
    "    \\vdots \\\\\n",
    "    z[n+8]\n",
    "\\end{bmatrix}\n",
    "\n",
    "\\hspace*{1cm}\n",
    "\n",
    "\\textbf{U} = \\begin{bmatrix}\n",
    "    q_0 & q_1 & q_2 & \\dots & 0 \\\\\n",
    "    0 & q_0 & q_1 & \\dots & 0 \\\\\n",
    "    \\vdots & \\vdots & \\vdots& \\ddots & \\vdots\\\\\n",
    "    0 & 0 & 0 & \\dots & q_{33}\n",
    "\\end{bmatrix}\n",
    "\n",
    "\\hspace*{1cm}\n",
    "\n",
    "\\underline{\\textbf{b}}[n] = \\begin{bmatrix}\n",
    "    b[n-16] \\\\\n",
    "    \\vdots \\\\\n",
    "    b[n] \\\\\n",
    "    \\vdots \\\\\n",
    "    b[n+16]\n",
    "\\end{bmatrix}\n",
    "\n",
    "\\hspace*{1cm}\n",
    "\n",
    "\\underline{\\textbf{w}}[n] = \\begin{bmatrix}\n",
    "    \\mathcal{w}[n-8] \\\\\n",
    "    \\vdots \\\\\n",
    "    \\mathcal{w}[n] \\\\\n",
    "    \\vdots \\\\\n",
    "    \\mathcal{w}[n+8]\n",
    "\\end{bmatrix}\n",
    "$$\n",
    "\n",
    "Using these formulations, we arrive at the matrix model of the channel for the 33 tap equalizer\n",
    "\n",
    "$\\underline{\\textbf{r}} = \\textbf{U\\underline{b}} + \\textbf{\\underline{w}}$"
   ]
  },
  {
   "cell_type": "markdown",
   "metadata": {},
   "source": [
    "Then, the Finite Impulse Response Zero-Forcing (FIR ZF) equalizer \n",
    "\n",
    "$\\textbf{c}_{zf} = (UU^*)^{-1}\\underline{u}_0$\n",
    "\n",
    "Where $\\underline{u}_0$ refers to the center column of $\\textbf{U}$, equivalently this is $\\underline{q}$"
   ]
  },
  {
   "cell_type": "code",
   "execution_count": 9,
   "metadata": {},
   "outputs": [
    {
     "name": "stdout",
     "output_type": "stream",
     "text": [
      "The 33 tap FIR-ZF equalizer for this channel is:  [-0.36117012  1.11537833 -0.36117012] ^T\n"
     ]
    }
   ],
   "source": [
    "U = toeplitz(np.concatenate((q[[0]], np.zeros(len(q)-1))), \n",
    "                        np.concatenate((q, np.zeros(len(q)-1))))\n",
    "Czf = np.linalg.inv(U @ np.conj(U.T)) @ q\n",
    "print('The 33 tap FIR-ZF equalizer for this channel is: ', Czf, '^T')"
   ]
  },
  {
   "cell_type": "markdown",
   "metadata": {},
   "source": [
    "In a more human, readable format,\n",
    "\n",
    "$$\n",
    "\n",
    "C_{zf} = \\begin{bmatrix}\n",
    "    0.087 \\\\ 0.067 \\\\ -0.081 \\\\  0.286 \\\\ 0.038 \\\\ 0.101 \\\\ 0.541 \\\\ -0.631 \\\\ 1.609 \\\\ -0.631 \\\\ 0.541 &\\\\0.101 \\\\0.038 \\\\ 0.286 \\\\-0.081 \\\\  0.067  \\\\ 0.087\n",
    "\\end{bmatrix}\n",
    "$$"
   ]
  },
  {
   "cell_type": "markdown",
   "metadata": {},
   "source": [
    "Now we estimate the SINR of the channel\n",
    "\n",
    "We need to use the definition of our noise vector from the zf generation, and more importantly we need its autocorrelation. F is the matrix version of the matched filter, an anticausal matrix which filters the noise (whereas the signal is filtered both by the pulse response AND the matched filter, represented by q)\n",
    "\n",
    "$$\n",
    "\\underline{\\textbf{w}}[n] = \\begin{bmatrix}\n",
    "    \\mathcal{w}[n-8] \\\\\n",
    "    \\vdots \\\\\n",
    "    \\mathcal{w}[n] \\\\\n",
    "    \\vdots \\\\\n",
    "    \\mathcal{w}[n+8]\n",
    "\\end{bmatrix}\n",
    "\n",
    "\\hspace*{3cm}\n",
    "\n",
    "R_{\\underline{w}} = \\mathbb{E}[\\underline{\\textbf{w}}[0]\\underline{\\textbf{w}}[0]^*] = F \\frac{N_0}{2} F^*\n",
    "$$\n",
    "\n",
    "Then, we know that\n",
    "\n",
    "\n",
    "$$\n",
    "\\begin{align}\n",
    "    \\sigma_{zf}^2 &= \\textbf{\\underline{C}}_{zf} R_{\\underline{w}} \\textbf{\\underline{C}}_{zf}^* \\\\\n",
    "                &= \\frac{N_0}{2} \\cdot \\textbf{\\underline{C}}_{zf} F  F^* \\textbf{\\underline{C}}_{zf}^*\n",
    "\\end{align}\n",
    "$$"
   ]
  },
  {
   "cell_type": "code",
   "execution_count": 10,
   "metadata": {},
   "outputs": [
    {
     "name": "stdout",
     "output_type": "stream",
     "text": [
      "The zero forcing noise variance: 0.09\n",
      "The corresponding SINR is : 5.46 (7.37 dB)\n",
      "Using the same gap as previously (6.6 dB), the spectral efficiency is 0.57 bps/Hz\n"
     ]
    }
   ],
   "source": [
    "F = toeplitz(np.concatenate((p[[0]], np.zeros(len(q)-1))),\n",
    "    np.concatenate((p, np.zeros(len(q)-1))))\n",
    "\n",
    "Rw = No/2 * F @ np.conj(F).T / mag_p\n",
    "sig2_zf = Czf @ Rw @ np.conj(Czf).T\n",
    "print(f'The zero forcing noise variance: {sig2_zf:.2f}')\n",
    "\n",
    "power_vec = (Czf @ U) \n",
    "c = len(power_vec) // 2\n",
    "Pr = power_vec[c] ** 2\n",
    "Pi = np.concatenate((power_vec[:c], power_vec[c+1:])) @ np.concatenate((power_vec[:c], power_vec[c+1:])).T\n",
    "\n",
    "SINR = Pr * E_bar /  (Pi * E_bar + sig2_zf)\n",
    "\n",
    "print(f'The corresponding SINR is : {SINR:.2f} ({utils.lin_to_db(SINR):.2f} dB)')\n",
    "\n",
    "b = 1/2 * np.log2(1 + SINR/utils.db_to_lin(gap))\n",
    "\n",
    "print(f'Using the same gap as previously ({gap} dB), the spectral efficiency is {b:.2f} bps/Hz')"
   ]
  },
  {
   "cell_type": "markdown",
   "metadata": {},
   "source": [
    "Since the spectral efficiency is less than 1 bps/Hz, we are limited to 2PAM as the simplest possible form of encoding, assuming we do transmit with 2PAM, we have $P_e \\leq Q(\\sqrt{SINR})$"
   ]
  },
  {
   "cell_type": "code",
   "execution_count": 11,
   "metadata": {},
   "outputs": [
    {
     "name": "stdout",
     "output_type": "stream",
     "text": [
      "The theoretical probability of error we achieve is 0.0097\n"
     ]
    }
   ],
   "source": [
    "Pe = utils.qfunc(np.sqrt(SINR))\n",
    "\n",
    "print(f'The theoretical probability of error we achieve is {Pe:.4f}')"
   ]
  },
  {
   "cell_type": "markdown",
   "metadata": {},
   "source": [
    "While this isn't quite at the $10^{-4}$ target, we made a massive improvement over the 0.12 error with no equalization"
   ]
  },
  {
   "cell_type": "markdown",
   "metadata": {},
   "source": [
    "For the minimum mean squared error FIR equalizer (MMSE FIR), we have the following formula:\n",
    "*Note that since this is a baseband channel, N=1\n",
    "\n",
    "$$\n",
    "C_{mmse} = (\\textbf{UU}^* + \\frac{1}{\\mathcal{E_s}} \\textbf{R}_w)^{-1}\\textbf{u}_0\n",
    "\n",
    "\\hspace*{2cm}\n",
    "\n",
    "\\mathcal{E_s} = N \\cdot \\overline{\\mathcal{E_s}}\n",
    "$$"
   ]
  },
  {
   "cell_type": "code",
   "execution_count": 12,
   "metadata": {},
   "outputs": [
    {
     "name": "stdout",
     "output_type": "stream",
     "text": [
      "[-0.30427564  1.0005299  -0.30427564]\n"
     ]
    }
   ],
   "source": [
    "Cmmse = np.linalg.inv(U@np.conj(U).T + 1/E_bar * Rw) @ q\n",
    "print(Cmmse)\n"
   ]
  },
  {
   "cell_type": "markdown",
   "metadata": {},
   "source": [
    "In a human readable format, this is\n",
    "\n",
    "$$\n",
    "\n",
    "C_{mmse} = \\begin{bmatrix}\n",
    "\n",
    "    0.0713 \\\\\n",
    "    0.0356 \\\\ \n",
    "    -0.0421 \\\\\n",
    "    0.1945 \\\\\n",
    "    0.0457 \\\\  \n",
    "    0.1005 \\\\\n",
    "    0.3649 \\\\\n",
    "    -0.4146 \\\\\n",
    "    1.2448 \\\\\n",
    "    -0.4146 \\\\\n",
    "    0.3649 \\\\\n",
    "    0.1005 \\\\\n",
    "    0.0457 \\\\\n",
    "    0.1945 \\\\\n",
    "    -0.0421 \\\\\n",
    "    0.0356 \\\\\n",
    "    0.0713\n",
    "    \n",
    "\\end{bmatrix}\n",
    "\n",
    "$$"
   ]
  },
  {
   "cell_type": "code",
   "execution_count": 13,
   "metadata": {},
   "outputs": [
    {
     "name": "stdout",
     "output_type": "stream",
     "text": [
      "The zero forcing noise variance: 0.09\n",
      "The corresponding SINR is : 5.51 (7.41 dB)\n",
      "Using the same gap as previously (6.6 dB), the spectral efficiency is 0.57 bps/Hz\n"
     ]
    }
   ],
   "source": [
    "sig2_mmse = Cmmse @ Rw @ np.conj(Cmmse).T\n",
    "print(f'The zero forcing noise variance: {sig2_zf:.2f}')\n",
    "\n",
    "power_vec = (Cmmse @ U) \n",
    "c = len(power_vec) // 2\n",
    "Pr = power_vec[c] ** 2\n",
    "Pi = np.concatenate((power_vec[:c], power_vec[c+1:])) @ np.concatenate((power_vec[:c], power_vec[c+1:])).T\n",
    "\n",
    "SINR = Pr * E_bar /  (Pi * E_bar + sig2_mmse)\n",
    "\n",
    "print(f'The corresponding SINR is : {SINR:.2f} ({utils.lin_to_db(SINR):.2f} dB)')\n",
    "\n",
    "b = 1/2 * np.log2(1 + SINR/utils.db_to_lin(gap))\n",
    "\n",
    "print(f'Using the same gap as previously ({gap} dB), the spectral efficiency is {b:.2f} bps/Hz')"
   ]
  },
  {
   "cell_type": "code",
   "execution_count": 14,
   "metadata": {},
   "outputs": [
    {
     "name": "stdout",
     "output_type": "stream",
     "text": [
      "The theoretical probability of error we achieve is 0.0094\n"
     ]
    }
   ],
   "source": [
    "Pe = utils.qfunc(np.sqrt(SINR))\n",
    "\n",
    "print(f'The theoretical probability of error we achieve is {Pe:.4f}')"
   ]
  },
  {
   "cell_type": "markdown",
   "metadata": {},
   "source": [
    "Now we simulate equalizing with both equalizers"
   ]
  },
  {
   "cell_type": "code",
   "execution_count": 19,
   "metadata": {},
   "outputs": [
    {
     "name": "stdout",
     "output_type": "stream",
     "text": [
      "The empirical probability of error using a zero-forcing equalizer we simulate is: 0.0089\n"
     ]
    }
   ],
   "source": [
    "n_bits = 10 ** 6\n",
    "\n",
    "pam = encoders.MPAM(M=2)\n",
    "b = utils.generate_bits(n_bits)\n",
    "\n",
    "symbols = pam.encode_bits(b)\n",
    "\n",
    "signal = np.convolve(symbols, q)[len(h)-1:-len(h)+1]\n",
    "noise = np.sqrt(No/2) * (np.random.randn(*signal.shape))\n",
    "noise = np.convolve(noise, p[::-1]/np.sqrt(mag_p))[:-len(p)+1]\n",
    "signal = signal +  noise\n",
    "\n",
    "signal_eq = np.convolve(signal, Czf)[len(h)-1:-len(h)+1]\n",
    "\n",
    "b_hat = pam.decode_symbols(signal_eq)\n",
    "\n",
    "empirical_pe = utils.probability_of_bit_error(b, b_hat)\n",
    "print(f'The empirical probability of error using a zero-forcing equalizer we simulate is: {empirical_pe:.4f}')"
   ]
  },
  {
   "cell_type": "code",
   "execution_count": 17,
   "metadata": {},
   "outputs": [
    {
     "name": "stdout",
     "output_type": "stream",
     "text": [
      "The empirical probability of error using an MMSE equalizer we simulate is: 0.0087\n"
     ]
    }
   ],
   "source": [
    "# Reusing PAM and number of bits from previous simulation\n",
    "\n",
    "b = utils.generate_bits(n_bits)\n",
    "\n",
    "symbols = pam.encode_bits(b)\n",
    "\n",
    "signal = np.convolve(symbols, q)[len(h)-1:-len(h)+1]\n",
    "noise = np.sqrt(No/2) * (np.random.randn(*signal.shape))\n",
    "noise = np.convolve(noise, p[::-1]/np.sqrt(mag_p))[:-len(p)+1]\n",
    "signal = signal +  noise\n",
    "\n",
    "signal_eq = np.convolve(signal, Cmmse)[len(h)-1:-len(h)+1]\n",
    "\n",
    "b_hat = pam.decode_symbols(signal_eq)\n",
    "\n",
    "empirical_pe = utils.probability_of_bit_error(b, b_hat)\n",
    "print(f'The empirical probability of error using an MMSE equalizer we simulate is: {empirical_pe:.4f}')"
   ]
  },
  {
   "cell_type": "markdown",
   "metadata": {},
   "source": [
    "## OFDM\n",
    "\n"
   ]
  },
  {
   "cell_type": "markdown",
   "metadata": {},
   "source": []
  }
 ],
 "metadata": {
  "kernelspec": {
   "display_name": "base",
   "language": "python",
   "name": "python3"
  },
  "language_info": {
   "codemirror_mode": {
    "name": "ipython",
    "version": 3
   },
   "file_extension": ".py",
   "mimetype": "text/x-python",
   "name": "python",
   "nbconvert_exporter": "python",
   "pygments_lexer": "ipython3",
   "version": "3.8.5"
  }
 },
 "nbformat": 4,
 "nbformat_minor": 2
}
