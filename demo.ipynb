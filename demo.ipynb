{
 "cells": [
  {
   "cell_type": "code",
   "execution_count": 24,
   "metadata": {},
   "outputs": [
    {
     "name": "stdout",
     "output_type": "stream",
     "text": [
      "The autoreload extension is already loaded. To reload it, use:\n",
      "  %reload_ext autoreload\n"
     ]
    }
   ],
   "source": [
    "%load_ext autoreload\n",
    "%autoreload 2\n",
    "\n",
    "import numpy as np\n",
    "\n",
    "import sys\n",
    "sys.path.append('./src')\n",
    "\n",
    "import simulation\n",
    "import utils"
   ]
  },
  {
   "cell_type": "code",
   "execution_count": 25,
   "metadata": {},
   "outputs": [
    {
     "name": "stdout",
     "output_type": "stream",
     "text": [
      "Ex empirical (snr):  0.0147% (7.75 dB)\n",
      "Classical MC Theory (snr):  0.0041% (9.15 dB)\n"
     ]
    }
   ],
   "source": [
    "snr = 10 ** (9.15 / 10)\n",
    "theory = 2 * utils.qfunc(np.sqrt(snr))\n",
    "\n",
    "pe = simulation.main()\n",
    "\n",
    "print(\"Ex empirical (snr): \", f'{pe:0.4f}% ({10 * np.log10(utils.invQfunc(pe /2) ** 2):0.2f} dB)')\n",
    "print(\"Classical MC Theory (snr): \", f'{theory:0.4f}% ({9.15:.2f} dB)') "
   ]
  },
  {
   "cell_type": "code",
   "execution_count": null,
   "metadata": {},
   "outputs": [],
   "source": []
  }
 ],
 "metadata": {
  "kernelspec": {
   "display_name": "base",
   "language": "python",
   "name": "python3"
  },
  "language_info": {
   "codemirror_mode": {
    "name": "ipython",
    "version": 3
   },
   "file_extension": ".py",
   "mimetype": "text/x-python",
   "name": "python",
   "nbconvert_exporter": "python",
   "pygments_lexer": "ipython3",
   "version": "3.8.5"
  }
 },
 "nbformat": 4,
 "nbformat_minor": 2
}
